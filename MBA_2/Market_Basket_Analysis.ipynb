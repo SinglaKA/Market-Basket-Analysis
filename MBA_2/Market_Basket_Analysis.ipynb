{
 "cells": [
  {
   "cell_type": "code",
   "execution_count": 1,
   "metadata": {},
   "outputs": [],
   "source": [
    "import pandas as pd\n",
    "import matplotlib.pyplot as plt\n",
    "import numpy as np\n",
    "from apyori import apriori"
   ]
  },
  {
   "cell_type": "code",
   "execution_count": 2,
   "metadata": {},
   "outputs": [
    {
     "data": {
      "text/html": [
       "<div>\n",
       "<style scoped>\n",
       "    .dataframe tbody tr th:only-of-type {\n",
       "        vertical-align: middle;\n",
       "    }\n",
       "\n",
       "    .dataframe tbody tr th {\n",
       "        vertical-align: top;\n",
       "    }\n",
       "\n",
       "    .dataframe thead th {\n",
       "        text-align: right;\n",
       "    }\n",
       "</style>\n",
       "<table border=\"1\" class=\"dataframe\">\n",
       "  <thead>\n",
       "    <tr style=\"text-align: right;\">\n",
       "      <th></th>\n",
       "      <th>Member_number</th>\n",
       "      <th>Date</th>\n",
       "      <th>itemDescription</th>\n",
       "    </tr>\n",
       "  </thead>\n",
       "  <tbody>\n",
       "    <tr>\n",
       "      <th>0</th>\n",
       "      <td>1808</td>\n",
       "      <td>21-07-2015</td>\n",
       "      <td>tropical fruit</td>\n",
       "    </tr>\n",
       "    <tr>\n",
       "      <th>1</th>\n",
       "      <td>2552</td>\n",
       "      <td>05-01-2015</td>\n",
       "      <td>whole milk</td>\n",
       "    </tr>\n",
       "    <tr>\n",
       "      <th>2</th>\n",
       "      <td>2300</td>\n",
       "      <td>19-09-2015</td>\n",
       "      <td>pip fruit</td>\n",
       "    </tr>\n",
       "    <tr>\n",
       "      <th>3</th>\n",
       "      <td>1187</td>\n",
       "      <td>12-12-2015</td>\n",
       "      <td>other vegetables</td>\n",
       "    </tr>\n",
       "    <tr>\n",
       "      <th>4</th>\n",
       "      <td>3037</td>\n",
       "      <td>01-02-2015</td>\n",
       "      <td>whole milk</td>\n",
       "    </tr>\n",
       "  </tbody>\n",
       "</table>\n",
       "</div>"
      ],
      "text/plain": [
       "   Member_number        Date   itemDescription\n",
       "0           1808  21-07-2015    tropical fruit\n",
       "1           2552  05-01-2015        whole milk\n",
       "2           2300  19-09-2015         pip fruit\n",
       "3           1187  12-12-2015  other vegetables\n",
       "4           3037  01-02-2015        whole milk"
      ]
     },
     "execution_count": 2,
     "metadata": {},
     "output_type": "execute_result"
    }
   ],
   "source": [
    "file = pd.read_csv('/home/ashish/Downloads/MBA/MBA_2/Dataset.csv')\n",
    "file.head(5)"
   ]
  },
  {
   "cell_type": "code",
   "execution_count": 3,
   "metadata": {},
   "outputs": [
    {
     "data": {
      "text/html": [
       "<div>\n",
       "<style scoped>\n",
       "    .dataframe tbody tr th:only-of-type {\n",
       "        vertical-align: middle;\n",
       "    }\n",
       "\n",
       "    .dataframe tbody tr th {\n",
       "        vertical-align: top;\n",
       "    }\n",
       "\n",
       "    .dataframe thead th {\n",
       "        text-align: right;\n",
       "    }\n",
       "</style>\n",
       "<table border=\"1\" class=\"dataframe\">\n",
       "  <thead>\n",
       "    <tr style=\"text-align: right;\">\n",
       "      <th></th>\n",
       "      <th>Member_number</th>\n",
       "    </tr>\n",
       "  </thead>\n",
       "  <tbody>\n",
       "    <tr>\n",
       "      <th>count</th>\n",
       "      <td>38765.000000</td>\n",
       "    </tr>\n",
       "    <tr>\n",
       "      <th>mean</th>\n",
       "      <td>3003.641868</td>\n",
       "    </tr>\n",
       "    <tr>\n",
       "      <th>std</th>\n",
       "      <td>1153.611031</td>\n",
       "    </tr>\n",
       "    <tr>\n",
       "      <th>min</th>\n",
       "      <td>1000.000000</td>\n",
       "    </tr>\n",
       "    <tr>\n",
       "      <th>25%</th>\n",
       "      <td>2002.000000</td>\n",
       "    </tr>\n",
       "    <tr>\n",
       "      <th>50%</th>\n",
       "      <td>3005.000000</td>\n",
       "    </tr>\n",
       "    <tr>\n",
       "      <th>75%</th>\n",
       "      <td>4007.000000</td>\n",
       "    </tr>\n",
       "    <tr>\n",
       "      <th>max</th>\n",
       "      <td>5000.000000</td>\n",
       "    </tr>\n",
       "  </tbody>\n",
       "</table>\n",
       "</div>"
      ],
      "text/plain": [
       "       Member_number\n",
       "count   38765.000000\n",
       "mean     3003.641868\n",
       "std      1153.611031\n",
       "min      1000.000000\n",
       "25%      2002.000000\n",
       "50%      3005.000000\n",
       "75%      4007.000000\n",
       "max      5000.000000"
      ]
     },
     "execution_count": 3,
     "metadata": {},
     "output_type": "execute_result"
    }
   ],
   "source": [
    "file.describe()"
   ]
  },
  {
   "cell_type": "code",
   "execution_count": 4,
   "metadata": {},
   "outputs": [
    {
     "name": "stdout",
     "output_type": "stream",
     "text": [
      "<class 'pandas.core.frame.DataFrame'>\n",
      "RangeIndex: 38765 entries, 0 to 38764\n",
      "Data columns (total 3 columns):\n",
      " #   Column           Non-Null Count  Dtype \n",
      "---  ------           --------------  ----- \n",
      " 0   Member_number    38765 non-null  int64 \n",
      " 1   Date             38765 non-null  object\n",
      " 2   itemDescription  38765 non-null  object\n",
      "dtypes: int64(1), object(2)\n",
      "memory usage: 908.7+ KB\n"
     ]
    }
   ],
   "source": [
    "file.info()"
   ]
  },
  {
   "cell_type": "code",
   "execution_count": 5,
   "metadata": {},
   "outputs": [
    {
     "name": "stdout",
     "output_type": "stream",
     "text": [
      "<class 'pandas.core.frame.DataFrame'>\n",
      "RangeIndex: 38765 entries, 0 to 38764\n",
      "Data columns (total 3 columns):\n",
      " #   Column           Non-Null Count  Dtype         \n",
      "---  ------           --------------  -----         \n",
      " 0   Member_number    38765 non-null  int64         \n",
      " 1   Date             38765 non-null  datetime64[ns]\n",
      " 2   itemDescription  38765 non-null  object        \n",
      "dtypes: datetime64[ns](1), int64(1), object(1)\n",
      "memory usage: 908.7+ KB\n"
     ]
    },
    {
     "name": "stderr",
     "output_type": "stream",
     "text": [
      "/tmp/ipykernel_13513/332793857.py:1: UserWarning: Parsing dates in DD/MM/YYYY format when dayfirst=False (the default) was specified. This may lead to inconsistently parsed dates! Specify a format to ensure consistent parsing.\n",
      "  file['Date'] = pd.to_datetime(file['Date'])\n"
     ]
    }
   ],
   "source": [
    "file['Date'] = pd.to_datetime(file['Date'])\n",
    "file.info()"
   ]
  },
  {
   "cell_type": "code",
   "execution_count": 6,
   "metadata": {},
   "outputs": [
    {
     "data": {
      "text/plain": [
       "0"
      ]
     },
     "execution_count": 6,
     "metadata": {},
     "output_type": "execute_result"
    }
   ],
   "source": [
    "file.isna().sum().sum()"
   ]
  },
  {
   "cell_type": "code",
   "execution_count": 7,
   "metadata": {},
   "outputs": [
    {
     "data": {
      "text/plain": [
       "(38765, 3)"
      ]
     },
     "execution_count": 7,
     "metadata": {},
     "output_type": "execute_result"
    }
   ],
   "source": [
    "file.shape"
   ]
  },
  {
   "cell_type": "code",
   "execution_count": 8,
   "metadata": {},
   "outputs": [
    {
     "data": {
      "text/html": [
       "<div>\n",
       "<style scoped>\n",
       "    .dataframe tbody tr th:only-of-type {\n",
       "        vertical-align: middle;\n",
       "    }\n",
       "\n",
       "    .dataframe tbody tr th {\n",
       "        vertical-align: top;\n",
       "    }\n",
       "\n",
       "    .dataframe thead th {\n",
       "        text-align: right;\n",
       "    }\n",
       "</style>\n",
       "<table border=\"1\" class=\"dataframe\">\n",
       "  <thead>\n",
       "    <tr style=\"text-align: right;\">\n",
       "      <th></th>\n",
       "      <th>Member_number</th>\n",
       "      <th>itemDescription</th>\n",
       "    </tr>\n",
       "    <tr>\n",
       "      <th>Date</th>\n",
       "      <th></th>\n",
       "      <th></th>\n",
       "    </tr>\n",
       "  </thead>\n",
       "  <tbody>\n",
       "    <tr>\n",
       "      <th>2015-07-21</th>\n",
       "      <td>1808</td>\n",
       "      <td>tropical fruit</td>\n",
       "    </tr>\n",
       "    <tr>\n",
       "      <th>2015-05-01</th>\n",
       "      <td>2552</td>\n",
       "      <td>whole milk</td>\n",
       "    </tr>\n",
       "    <tr>\n",
       "      <th>2015-09-19</th>\n",
       "      <td>2300</td>\n",
       "      <td>pip fruit</td>\n",
       "    </tr>\n",
       "    <tr>\n",
       "      <th>2015-12-12</th>\n",
       "      <td>1187</td>\n",
       "      <td>other vegetables</td>\n",
       "    </tr>\n",
       "    <tr>\n",
       "      <th>2015-01-02</th>\n",
       "      <td>3037</td>\n",
       "      <td>whole milk</td>\n",
       "    </tr>\n",
       "  </tbody>\n",
       "</table>\n",
       "</div>"
      ],
      "text/plain": [
       "            Member_number   itemDescription\n",
       "Date                                       \n",
       "2015-07-21           1808    tropical fruit\n",
       "2015-05-01           2552        whole milk\n",
       "2015-09-19           2300         pip fruit\n",
       "2015-12-12           1187  other vegetables\n",
       "2015-01-02           3037        whole milk"
      ]
     },
     "execution_count": 8,
     "metadata": {},
     "output_type": "execute_result"
    }
   ],
   "source": [
    "file.set_index('Date',inplace = True)\n",
    "file.head()"
   ]
  },
  {
   "cell_type": "code",
   "execution_count": 9,
   "metadata": {},
   "outputs": [
    {
     "name": "stdout",
     "output_type": "stream",
     "text": [
      "Total number of members : 3898\n",
      "This data spanned for 2 years\n",
      "Total number of items 167\n"
     ]
    }
   ],
   "source": [
    "print('Total number of members :',len(np.unique(file['Member_number'])))\n",
    "print('This data spanned for',len(np.unique(file.index.year)),'years')\n",
    "print('Total number of items',len(np.unique(file.itemDescription)))"
   ]
  },
  {
   "cell_type": "code",
   "execution_count": 10,
   "metadata": {},
   "outputs": [
    {
     "data": {
      "image/png": "[encoded data removed]",
      "text/plain": [
       "<Figure size 2000x500 with 1 Axes>"
      ]
     },
     "metadata": {},
     "output_type": "display_data"
    }
   ],
   "source": [
    "plt.figure(figsize=(20,5))\n",
    "plt.bar(file['itemDescription'].value_counts().head(25).index,file['itemDescription'].value_counts().head(25).values)\n",
    "plt.xlabel('Item Description')\n",
    "plt.ylabel('No. of transactions')\n",
    "plt.xticks(rotation = 45)\n",
    "plt.title('Top 25 Items sold out of {} items'.format(len(np.unique(file.itemDescription))))\n",
    "plt.show()"
   ]
  },
  {
   "attachments": {},
   "cell_type": "markdown",
   "metadata": {},
   "source": [
    "Looking at the graph, I will suggest that Whole Milk, Other Vegetables, Rolls/Buns, Soda, Yogurt and root vegetables needs to be always in the store. As these are the items with most transactions. "
   ]
  },
  {
   "cell_type": "code",
   "execution_count": 11,
   "metadata": {},
   "outputs": [
    {
     "data": {
      "text/plain": [
       "Member_number  Date      \n",
       "1000           2014-06-24                    [whole milk, pastry, salty snack]\n",
       "               2015-03-15    [sausage, whole milk, semi-finished bread, yog...\n",
       "               2015-05-27                           [soda, pickled vegetables]\n",
       "               2015-07-24                       [canned beer, misc. beverages]\n",
       "               2015-11-25                          [sausage, hygiene articles]\n",
       "1001           2014-07-02                    [sausage, whole milk, rolls/buns]\n",
       "               2014-12-12                                   [whole milk, soda]\n",
       "               2015-01-20              [frankfurter, soda, whipped/sour cream]\n",
       "               2015-02-05                                  [frankfurter, curd]\n",
       "               2015-04-14                                  [beef, white bread]\n",
       "Name: itemDescription, dtype: object"
      ]
     },
     "execution_count": 11,
     "metadata": {},
     "output_type": "execute_result"
    }
   ],
   "source": [
    "file = file.groupby(['Member_number','Date'])['itemDescription'].apply(lambda x: list(x))\n",
    "file.head(10)"
   ]
  },
  {
   "cell_type": "code",
   "execution_count": 12,
   "metadata": {},
   "outputs": [
    {
     "data": {
      "text/plain": [
       "[['whole milk', 'pastry', 'salty snack'],\n",
       " ['sausage', 'whole milk', 'semi-finished bread', 'yogurt'],\n",
       " ['soda', 'pickled vegetables'],\n",
       " ['canned beer', 'misc. beverages'],\n",
       " ['sausage', 'hygiene articles'],\n",
       " ['sausage', 'whole milk', 'rolls/buns'],\n",
       " ['whole milk', 'soda'],\n",
       " ['frankfurter', 'soda', 'whipped/sour cream'],\n",
       " ['frankfurter', 'curd'],\n",
       " ['beef', 'white bread']]"
      ]
     },
     "execution_count": 12,
     "metadata": {},
     "output_type": "execute_result"
    }
   ],
   "source": [
    "transc = file.values.tolist()\n",
    "transc[:10]"
   ]
  },
  {
   "attachments": {},
   "cell_type": "markdown",
   "metadata": {},
   "source": [
    "Apriori Algorithm"
   ]
  },
  {
   "cell_type": "code",
   "execution_count": 13,
   "metadata": {},
   "outputs": [
    {
     "data": {
      "text/plain": [
       "[RelationRecord(items=frozenset({'fruit/vegetable juice', 'liver loaf'}), support=0.00040098910646260775, ordered_statistics=[OrderedStatistic(items_base=frozenset({'liver loaf'}), items_add=frozenset({'fruit/vegetable juice'}), confidence=0.12, lift=3.5276227897838903)]),\n",
       " RelationRecord(items=frozenset({'ham', 'pickled vegetables'}), support=0.0005346521419501437, ordered_statistics=[OrderedStatistic(items_base=frozenset({'pickled vegetables'}), items_add=frozenset({'ham'}), confidence=0.05970149253731344, lift=3.4895055970149254)]),\n",
       " RelationRecord(items=frozenset({'roll products ', 'meat'}), support=0.0003341575887188398, ordered_statistics=[OrderedStatistic(items_base=frozenset({'roll products '}), items_add=frozenset({'meat'}), confidence=0.06097560975609757, lift=3.620547812620984)]),\n",
       " RelationRecord(items=frozenset({'misc. beverages', 'salt'}), support=0.0003341575887188398, ordered_statistics=[OrderedStatistic(items_base=frozenset({'salt'}), items_add=frozenset({'misc. beverages'}), confidence=0.05617977528089888, lift=3.5619405827461437)]),\n",
       " RelationRecord(items=frozenset({'misc. beverages', 'spread cheese'}), support=0.0003341575887188398, ordered_statistics=[OrderedStatistic(items_base=frozenset({'spread cheese'}), items_add=frozenset({'misc. beverages'}), confidence=0.05, lift=3.170127118644068)]),\n",
       " RelationRecord(items=frozenset({'seasonal products', 'soups'}), support=0.0003341575887188398, ordered_statistics=[OrderedStatistic(items_base=frozenset({'soups'}), items_add=frozenset({'seasonal products'}), confidence=0.10416666666666667, lift=14.704205974842768)]),\n",
       " RelationRecord(items=frozenset({'spread cheese', 'sugar'}), support=0.00040098910646260775, ordered_statistics=[OrderedStatistic(items_base=frozenset({'spread cheese'}), items_add=frozenset({'sugar'}), confidence=0.06, lift=3.3878490566037733)]),\n",
       " RelationRecord(items=frozenset({'bottled beer', 'butter', 'sausage'}), support=0.0003341575887188398, ordered_statistics=[OrderedStatistic(items_base=frozenset({'bottled beer', 'butter'}), items_add=frozenset({'sausage'}), confidence=0.2, lift=3.3140642303433), OrderedStatistic(items_base=frozenset({'sausage', 'butter'}), items_add=frozenset({'bottled beer'}), confidence=0.1724137931034483, lift=3.8050554368833285)]),\n",
       " RelationRecord(items=frozenset({'hard cheese', 'bottled beer', 'whole milk'}), support=0.0003341575887188398, ordered_statistics=[OrderedStatistic(items_base=frozenset({'hard cheese', 'whole milk'}), items_add=frozenset({'bottled beer'}), confidence=0.17857142857142858, lift=3.9409502739148756)]),\n",
       " RelationRecord(items=frozenset({'frozen vegetables', 'canned beer', 'brown bread'}), support=0.0003341575887188398, ordered_statistics=[OrderedStatistic(items_base=frozenset({'canned beer', 'brown bread'}), items_add=frozenset({'frozen vegetables'}), confidence=0.1388888888888889, lift=4.959891275523733), OrderedStatistic(items_base=frozenset({'frozen vegetables', 'brown bread'}), items_add=frozenset({'canned beer'}), confidence=0.35714285714285715, lift=7.612433862433862), OrderedStatistic(items_base=frozenset({'frozen vegetables', 'canned beer'}), items_add=frozenset({'brown bread'}), confidence=0.25, lift=6.644316163410303)])]"
      ]
     },
     "execution_count": 13,
     "metadata": {},
     "output_type": "execute_result"
    }
   ],
   "source": [
    "rules = apriori(transc, min_support = 0.00030, min_confidence = 0.05, min_lift = 3, min_length = 2)\n",
    "result = list(rules)\n",
    "result[:10]"
   ]
  },
  {
   "cell_type": "code",
   "execution_count": 14,
   "metadata": {},
   "outputs": [
    {
     "data": {
      "text/html": [
       "<div>\n",
       "<style scoped>\n",
       "    .dataframe tbody tr th:only-of-type {\n",
       "        vertical-align: middle;\n",
       "    }\n",
       "\n",
       "    .dataframe tbody tr th {\n",
       "        vertical-align: top;\n",
       "    }\n",
       "\n",
       "    .dataframe thead th {\n",
       "        text-align: right;\n",
       "    }\n",
       "</style>\n",
       "<table border=\"1\" class=\"dataframe\">\n",
       "  <thead>\n",
       "    <tr style=\"text-align: right;\">\n",
       "      <th></th>\n",
       "      <th>ItemSet</th>\n",
       "      <th>Support</th>\n",
       "      <th>Confidence</th>\n",
       "      <th>Lift</th>\n",
       "    </tr>\n",
       "  </thead>\n",
       "  <tbody>\n",
       "    <tr>\n",
       "      <th>0</th>\n",
       "      <td>(fruit/vegetable juice, liver loaf)</td>\n",
       "      <td>0.000401</td>\n",
       "      <td>0.120000</td>\n",
       "      <td>3.527623</td>\n",
       "    </tr>\n",
       "    <tr>\n",
       "      <th>1</th>\n",
       "      <td>(ham, pickled vegetables)</td>\n",
       "      <td>0.000535</td>\n",
       "      <td>0.059701</td>\n",
       "      <td>3.489506</td>\n",
       "    </tr>\n",
       "    <tr>\n",
       "      <th>2</th>\n",
       "      <td>(roll products , meat)</td>\n",
       "      <td>0.000334</td>\n",
       "      <td>0.060976</td>\n",
       "      <td>3.620548</td>\n",
       "    </tr>\n",
       "    <tr>\n",
       "      <th>3</th>\n",
       "      <td>(misc. beverages, salt)</td>\n",
       "      <td>0.000334</td>\n",
       "      <td>0.056180</td>\n",
       "      <td>3.561941</td>\n",
       "    </tr>\n",
       "    <tr>\n",
       "      <th>4</th>\n",
       "      <td>(misc. beverages, spread cheese)</td>\n",
       "      <td>0.000334</td>\n",
       "      <td>0.050000</td>\n",
       "      <td>3.170127</td>\n",
       "    </tr>\n",
       "    <tr>\n",
       "      <th>5</th>\n",
       "      <td>(seasonal products, soups)</td>\n",
       "      <td>0.000334</td>\n",
       "      <td>0.104167</td>\n",
       "      <td>14.704206</td>\n",
       "    </tr>\n",
       "    <tr>\n",
       "      <th>6</th>\n",
       "      <td>(spread cheese, sugar)</td>\n",
       "      <td>0.000401</td>\n",
       "      <td>0.060000</td>\n",
       "      <td>3.387849</td>\n",
       "    </tr>\n",
       "    <tr>\n",
       "      <th>7</th>\n",
       "      <td>(bottled beer, butter, sausage)</td>\n",
       "      <td>0.000334</td>\n",
       "      <td>0.200000</td>\n",
       "      <td>3.314064</td>\n",
       "    </tr>\n",
       "    <tr>\n",
       "      <th>8</th>\n",
       "      <td>(hard cheese, bottled beer, whole milk)</td>\n",
       "      <td>0.000334</td>\n",
       "      <td>0.178571</td>\n",
       "      <td>3.940950</td>\n",
       "    </tr>\n",
       "    <tr>\n",
       "      <th>9</th>\n",
       "      <td>(frozen vegetables, canned beer, brown bread)</td>\n",
       "      <td>0.000334</td>\n",
       "      <td>0.138889</td>\n",
       "      <td>4.959891</td>\n",
       "    </tr>\n",
       "    <tr>\n",
       "      <th>10</th>\n",
       "      <td>(sausage, canned beer, brown bread)</td>\n",
       "      <td>0.000401</td>\n",
       "      <td>0.222222</td>\n",
       "      <td>4.736626</td>\n",
       "    </tr>\n",
       "    <tr>\n",
       "      <th>11</th>\n",
       "      <td>(frankfurter, butter, soda)</td>\n",
       "      <td>0.000334</td>\n",
       "      <td>0.108696</td>\n",
       "      <td>3.086173</td>\n",
       "    </tr>\n",
       "    <tr>\n",
       "      <th>12</th>\n",
       "      <td>(canned beer, butter milk, yogurt)</td>\n",
       "      <td>0.000334</td>\n",
       "      <td>0.416667</td>\n",
       "      <td>4.851816</td>\n",
       "    </tr>\n",
       "    <tr>\n",
       "      <th>13</th>\n",
       "      <td>(frozen vegetables, canned beer, sausage)</td>\n",
       "      <td>0.000334</td>\n",
       "      <td>0.250000</td>\n",
       "      <td>4.142580</td>\n",
       "    </tr>\n",
       "    <tr>\n",
       "      <th>14</th>\n",
       "      <td>(whole milk, canned beer, hygiene articles)</td>\n",
       "      <td>0.000401</td>\n",
       "      <td>0.545455</td>\n",
       "      <td>3.453930</td>\n",
       "    </tr>\n",
       "    <tr>\n",
       "      <th>15</th>\n",
       "      <td>(chewing gum, soda, yogurt)</td>\n",
       "      <td>0.000401</td>\n",
       "      <td>0.400000</td>\n",
       "      <td>4.657743</td>\n",
       "    </tr>\n",
       "    <tr>\n",
       "      <th>16</th>\n",
       "      <td>(citrus fruit, pork, yogurt)</td>\n",
       "      <td>0.000401</td>\n",
       "      <td>0.300000</td>\n",
       "      <td>3.493307</td>\n",
       "    </tr>\n",
       "    <tr>\n",
       "      <th>17</th>\n",
       "      <td>(frankfurter, coffee, rolls/buns)</td>\n",
       "      <td>0.000334</td>\n",
       "      <td>0.138889</td>\n",
       "      <td>3.678220</td>\n",
       "    </tr>\n",
       "    <tr>\n",
       "      <th>18</th>\n",
       "      <td>(frankfurter, soda, coffee)</td>\n",
       "      <td>0.000334</td>\n",
       "      <td>0.135135</td>\n",
       "      <td>3.578809</td>\n",
       "    </tr>\n",
       "    <tr>\n",
       "      <th>19</th>\n",
       "      <td>(pastry, sausage, coffee)</td>\n",
       "      <td>0.000334</td>\n",
       "      <td>0.238095</td>\n",
       "      <td>3.945315</td>\n",
       "    </tr>\n",
       "    <tr>\n",
       "      <th>20</th>\n",
       "      <td>(fruit/vegetable juice, curd, sausage)</td>\n",
       "      <td>0.000334</td>\n",
       "      <td>0.500000</td>\n",
       "      <td>8.285161</td>\n",
       "    </tr>\n",
       "    <tr>\n",
       "      <th>21</th>\n",
       "      <td>(sausage, curd, margarine)</td>\n",
       "      <td>0.000334</td>\n",
       "      <td>0.312500</td>\n",
       "      <td>5.178225</td>\n",
       "    </tr>\n",
       "    <tr>\n",
       "      <th>22</th>\n",
       "      <td>(sausage, curd, yogurt)</td>\n",
       "      <td>0.000468</td>\n",
       "      <td>0.205882</td>\n",
       "      <td>3.411537</td>\n",
       "    </tr>\n",
       "    <tr>\n",
       "      <th>23</th>\n",
       "      <td>(hard cheese, other vegetables, sausage)</td>\n",
       "      <td>0.000334</td>\n",
       "      <td>0.200000</td>\n",
       "      <td>3.314064</td>\n",
       "    </tr>\n",
       "    <tr>\n",
       "      <th>24</th>\n",
       "      <td>(ice cream, pip fruit, rolls/buns)</td>\n",
       "      <td>0.000334</td>\n",
       "      <td>0.500000</td>\n",
       "      <td>4.545261</td>\n",
       "    </tr>\n",
       "    <tr>\n",
       "      <th>25</th>\n",
       "      <td>(root vegetables, shopping bags, margarine)</td>\n",
       "      <td>0.000334</td>\n",
       "      <td>0.172414</td>\n",
       "      <td>3.623353</td>\n",
       "    </tr>\n",
       "    <tr>\n",
       "      <th>26</th>\n",
       "      <td>(sausage, yogurt, margarine)</td>\n",
       "      <td>0.000401</td>\n",
       "      <td>0.187500</td>\n",
       "      <td>3.106935</td>\n",
       "    </tr>\n",
       "    <tr>\n",
       "      <th>27</th>\n",
       "      <td>(pastry, newspapers, sausage)</td>\n",
       "      <td>0.000334</td>\n",
       "      <td>0.185185</td>\n",
       "      <td>3.580008</td>\n",
       "    </tr>\n",
       "    <tr>\n",
       "      <th>28</th>\n",
       "      <td>(yogurt, onions, tropical fruit)</td>\n",
       "      <td>0.000334</td>\n",
       "      <td>0.277778</td>\n",
       "      <td>3.234544</td>\n",
       "    </tr>\n",
       "    <tr>\n",
       "      <th>29</th>\n",
       "      <td>(other vegetables, sausage, waffles)</td>\n",
       "      <td>0.000334</td>\n",
       "      <td>0.055556</td>\n",
       "      <td>3.001003</td>\n",
       "    </tr>\n",
       "    <tr>\n",
       "      <th>30</th>\n",
       "      <td>(other vegetables, soft cheese, yogurt)</td>\n",
       "      <td>0.000334</td>\n",
       "      <td>0.277778</td>\n",
       "      <td>3.234544</td>\n",
       "    </tr>\n",
       "    <tr>\n",
       "      <th>31</th>\n",
       "      <td>(sausage, pork, yogurt)</td>\n",
       "      <td>0.000401</td>\n",
       "      <td>0.260870</td>\n",
       "      <td>3.037659</td>\n",
       "    </tr>\n",
       "    <tr>\n",
       "      <th>32</th>\n",
       "      <td>(other vegetables, soda, whole milk, pastry)</td>\n",
       "      <td>0.000334</td>\n",
       "      <td>0.090909</td>\n",
       "      <td>7.817659</td>\n",
       "    </tr>\n",
       "    <tr>\n",
       "      <th>33</th>\n",
       "      <td>(sausage, yogurt, whole milk, rolls/buns)</td>\n",
       "      <td>0.000334</td>\n",
       "      <td>0.062500</td>\n",
       "      <td>5.599925</td>\n",
       "    </tr>\n",
       "  </tbody>\n",
       "</table>\n",
       "</div>"
      ],
      "text/plain": [
       "                                          ItemSet   Support  Confidence  \\\n",
       "0             (fruit/vegetable juice, liver loaf)  0.000401    0.120000   \n",
       "1                       (ham, pickled vegetables)  0.000535    0.059701   \n",
       "2                          (roll products , meat)  0.000334    0.060976   \n",
       "3                         (misc. beverages, salt)  0.000334    0.056180   \n",
       "4                (misc. beverages, spread cheese)  0.000334    0.050000   \n",
       "5                      (seasonal products, soups)  0.000334    0.104167   \n",
       "6                          (spread cheese, sugar)  0.000401    0.060000   \n",
       "7                 (bottled beer, butter, sausage)  0.000334    0.200000   \n",
       "8         (hard cheese, bottled beer, whole milk)  0.000334    0.178571   \n",
       "9   (frozen vegetables, canned beer, brown bread)  0.000334    0.138889   \n",
       "10            (sausage, canned beer, brown bread)  0.000401    0.222222   \n",
       "11                    (frankfurter, butter, soda)  0.000334    0.108696   \n",
       "12             (canned beer, butter milk, yogurt)  0.000334    0.416667   \n",
       "13      (frozen vegetables, canned beer, sausage)  0.000334    0.250000   \n",
       "14    (whole milk, canned beer, hygiene articles)  0.000401    0.545455   \n",
       "15                    (chewing gum, soda, yogurt)  0.000401    0.400000   \n",
       "16                   (citrus fruit, pork, yogurt)  0.000401    0.300000   \n",
       "17              (frankfurter, coffee, rolls/buns)  0.000334    0.138889   \n",
       "18                    (frankfurter, soda, coffee)  0.000334    0.135135   \n",
       "19                      (pastry, sausage, coffee)  0.000334    0.238095   \n",
       "20         (fruit/vegetable juice, curd, sausage)  0.000334    0.500000   \n",
       "21                     (sausage, curd, margarine)  0.000334    0.312500   \n",
       "22                        (sausage, curd, yogurt)  0.000468    0.205882   \n",
       "23       (hard cheese, other vegetables, sausage)  0.000334    0.200000   \n",
       "24             (ice cream, pip fruit, rolls/buns)  0.000334    0.500000   \n",
       "25    (root vegetables, shopping bags, margarine)  0.000334    0.172414   \n",
       "26                   (sausage, yogurt, margarine)  0.000401    0.187500   \n",
       "27                  (pastry, newspapers, sausage)  0.000334    0.185185   \n",
       "28               (yogurt, onions, tropical fruit)  0.000334    0.277778   \n",
       "29           (other vegetables, sausage, waffles)  0.000334    0.055556   \n",
       "30        (other vegetables, soft cheese, yogurt)  0.000334    0.277778   \n",
       "31                        (sausage, pork, yogurt)  0.000401    0.260870   \n",
       "32   (other vegetables, soda, whole milk, pastry)  0.000334    0.090909   \n",
       "33      (sausage, yogurt, whole milk, rolls/buns)  0.000334    0.062500   \n",
       "\n",
       "         Lift  \n",
       "0    3.527623  \n",
       "1    3.489506  \n",
       "2    3.620548  \n",
       "3    3.561941  \n",
       "4    3.170127  \n",
       "5   14.704206  \n",
       "6    3.387849  \n",
       "7    3.314064  \n",
       "8    3.940950  \n",
       "9    4.959891  \n",
       "10   4.736626  \n",
       "11   3.086173  \n",
       "12   4.851816  \n",
       "13   4.142580  \n",
       "14   3.453930  \n",
       "15   4.657743  \n",
       "16   3.493307  \n",
       "17   3.678220  \n",
       "18   3.578809  \n",
       "19   3.945315  \n",
       "20   8.285161  \n",
       "21   5.178225  \n",
       "22   3.411537  \n",
       "23   3.314064  \n",
       "24   4.545261  \n",
       "25   3.623353  \n",
       "26   3.106935  \n",
       "27   3.580008  \n",
       "28   3.234544  \n",
       "29   3.001003  \n",
       "30   3.234544  \n",
       "31   3.037659  \n",
       "32   7.817659  \n",
       "33   5.599925  "
      ]
     },
     "execution_count": 14,
     "metadata": {},
     "output_type": "execute_result"
    }
   ],
   "source": [
    "col = ['ItemSet','Support','Confidence','Lift']\n",
    "row = []\n",
    "for i in result:\n",
    "    itemset = i[0]\n",
    "    support = i[1]\n",
    "    confidence = i[2][0][2]\n",
    "    lift = i[2][0][3]\n",
    "    row.append([itemset,support, confidence, lift])\n",
    "ItemSet = pd.DataFrame(row, columns = col)\n",
    "ItemSet"
   ]
  },
  {
   "attachments": {},
   "cell_type": "markdown",
   "metadata": {},
   "source": [
    "So, in this Itemset, we can analyse that\n",
    "\n",
    "1. The Itemsets with confidence level greater than 0.25 or 25% (Id: 12,13,14,15,16,20,21,24,28,30,31) should be taken most care and should never be out of stock from the store as these have high probability of selling when grouped together. \n",
    "2. Analysing \"Top 25 items out of 165 items\" and above table, we get to know that the top 10 items are always in one of the transactions with confidence level greater than 25%. So, Both table and graph gives us an idea of the items that we need to keep in the store and to keep them in sufficient amount. "
   ]
  }
 ],
 "metadata": {
  "kernelspec": {
   "display_name": "opencv",
   "language": "python",
   "name": "python3"
  },
  "language_info": {
   "codemirror_mode": {
    "name": "ipython",
    "version": 3
   },
   "file_extension": ".py",
   "mimetype": "text/x-python",
   "name": "python",
   "nbconvert_exporter": "python",
   "pygments_lexer": "ipython3",
   "version": "3.9.12"
  },
  "orig_nbformat": 4
 },
 "nbformat": 4,
 "nbformat_minor": 2
}
